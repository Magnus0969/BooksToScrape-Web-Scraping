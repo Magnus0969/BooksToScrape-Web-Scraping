{
 "cells": [
  {
   "cell_type": "code",
   "execution_count": 7,
   "metadata": {},
   "outputs": [],
   "source": [
    "import requests\n",
    "import pandas as pd\n",
    "from tqdm import tqdm\n",
    "from bs4 import BeautifulSoup\n",
    "\n",
    "link = 'https://books.toscrape.com/catalogue/page-1.html'"
   ]
  },
  {
   "cell_type": "code",
   "execution_count": 3,
   "metadata": {},
   "outputs": [],
   "source": [
    "res = requests.get(link)\n",
    "\n",
    "soup = BeautifulSoup(res.text, 'html.parser')"
   ]
  },
  {
   "cell_type": "code",
   "execution_count": 4,
   "metadata": {},
   "outputs": [],
   "source": [
    "data = []\n",
    "\n",
    "for sp in soup.find_all('li', class_= 'col-xs-6 col-sm-4 col-md-3 col-lg-3'):\n",
    "        \n",
    "    img_source   = 'https://books.toscrape.com/' + sp.find('img').get('src')[3:]\n",
    "    book_link  = 'https://books.toscrape.com/catalogue/' + sp.find_all('a')[-1].get('href')\n",
    "    title      = sp.find_all('a')[-1].get('title')\n",
    "    rating     = sp.find('p').get('class')[-1]\n",
    "    price      = sp.find('p',class_ = 'price_color').text[2:]\n",
    "    stock      = sp.find('p', class_ = 'instock availability').text.strip()\n",
    "    \n",
    "    \n",
    "    data.append([Title, Rating, Price, Stock, book_link, img_source])"
   ]
  },
  {
   "cell_type": "code",
   "execution_count": 5,
   "metadata": {},
   "outputs": [
    {
     "data": {
      "text/plain": [
       "20"
      ]
     },
     "execution_count": 5,
     "metadata": {},
     "output_type": "execute_result"
    }
   ],
   "source": [
    "len(data)"
   ]
  },
  {
   "cell_type": "code",
   "execution_count": 6,
   "metadata": {},
   "outputs": [
    {
     "data": {
      "text/plain": [
       "['A Light in the Attic',\n",
       " 'Three',\n",
       " '51.77',\n",
       " 'In stock',\n",
       " 'https://books.toscrape.com/catalogue/a-light-in-the-attic_1000/index.html',\n",
       " 'https://books.toscrape.com/media/cache/2c/da/2cdad67c44b002e7ead0cc35693c0e8b.jpg']"
      ]
     },
     "execution_count": 6,
     "metadata": {},
     "output_type": "execute_result"
    }
   ],
   "source": [
    "data[0]"
   ]
  },
  {
   "cell_type": "code",
   "execution_count": null,
   "metadata": {},
   "outputs": [],
   "source": [
    "data = []\n",
    "\n",
    "for i in tqdm(range(1,51)):        # Going through each page one by one\n",
    "\n",
    "    link = 'https://books.toscrape.com/catalogue/page-' + str(i) + '.html'     # Creating link for each page\n",
    "\n",
    "    res = requests.get(link)                                                   # Sending Request to the link\n",
    "    soup = BeautifulSoup(res.text, 'html.parser')                              # Creating a soup for that page\n",
    "    \n",
    "    \n",
    "    for sp in soup.find_all('li', class_= 'col-xs-6 col-sm-4 col-md-3 col-lg-3'):\n",
    "    \n",
    "        img_source   = 'https://books.toscrape.com/' + sp.find('img').get('src')[3:]\n",
    "        book_link  = 'https://books.toscrape.com/catalogue/' + sp.find_all('a')[-1].get('href')\n",
    "        Title      = sp.find_all('a')[-1].get('title')\n",
    "        Rating     = sp.find('p').get('class')[-1]\n",
    "        Price      = sp.find('p',class_ = 'price_color').text[2:]\n",
    "        Stock      = sp.find('p', class_ = 'instock availability').text.strip()\n",
    "\n",
    "        data.append([Title, Rating, Price, Stock, book_link, img_source])        # Saving scraped data in a list"
   ]
  },
  {
   "cell_type": "code",
   "execution_count": null,
   "metadata": {},
   "outputs": [],
   "source": [
    "df = pd.DataFrame(data, columns = ['Title', 'Rating', 'Price', 'Stock', 'Book Link','Img Source'])"
   ]
  },
  {
   "cell_type": "code",
   "execution_count": null,
   "metadata": {},
   "outputs": [],
   "source": [
    "df.to_csv('BookToScrape.csv', index = False)"
   ]
  },
  {
   "cell_type": "code",
   "execution_count": null,
   "metadata": {},
   "outputs": [],
   "source": [
    "df = pd.read_csv('books.csv')\n",
    "df.head()"
   ]
  },
  {
   "cell_type": "code",
   "execution_count": null,
   "metadata": {},
   "outputs": [],
   "source": [
    "data = []\n",
    "\n",
    "for link in tqdm(df['book_link']):\n",
    "    \n",
    "    res = requests.get(link)\n",
    "    soup = BeautifulSoup(res.text, 'html.parser')\n",
    "    \n",
    "    typ = soup.find('ul', class_ = 'breadcrumb').find_all('a')[2].text\n",
    "    \n",
    "    temp = soup.find('table', class_ = 'table table-striped').find_all('td')\n",
    "    \n",
    "    upc      = temp[0].text\n",
    "    price_x  = temp[2].text[2:]\n",
    "    price_i  = temp[3].text[2:]\n",
    "    tax      = temp[4].text[2:]\n",
    "    qn       = temp[5].text\n",
    "    reviews  = temp[6].text\n",
    "    \n",
    "    data.append([typ, price_x, price_i, tax, qn, upc, reviews])"
   ]
  },
  {
   "cell_type": "code",
   "execution_count": null,
   "metadata": {},
   "outputs": [],
   "source": [
    "df = pd.DataFrame(data, columns = ['Genre','Price(exc Tax)', 'Price(inc Tax)', 'Tax', 'Avaialability', 'UPC', 'Reviews'])\n",
    "df.head()"
   ]
  },
  {
   "cell_type": "code",
   "execution_count": null,
   "metadata": {},
   "outputs": [],
   "source": [
    "df.to_csv('BooksToScrape.csv', index = False)"
   ]
  },
  {
   "cell_type": "code",
   "execution_count": null,
   "metadata": {},
   "outputs": [],
   "source": [
    "df_1 = pd.read_csv('BookToScrape.csv')\n",
    "df_2 = pd.read_csv('BooksToScrape.csv')"
   ]
  },
  {
   "cell_type": "code",
   "execution_count": null,
   "metadata": {},
   "outputs": [],
   "source": [
    "df_1.columns"
   ]
  },
  {
   "cell_type": "code",
   "execution_count": null,
   "metadata": {},
   "outputs": [],
   "source": [
    "df_2.columns"
   ]
  },
  {
   "cell_type": "code",
   "execution_count": null,
   "metadata": {},
   "outputs": [],
   "source": [
    "df = pd.DataFrame()\n",
    "\n",
    "df['Title']            = df_1['Title']\n",
    "df['UPC']              = df_2['UPC']\n",
    "df['Genre']            = df_2['Genre']\n",
    "df['Price(exc Tax)']   = df_2['Price(exc Tax)']\n",
    "df['Price(inc Tax)']   = df_2['Price(inc Tax)']\n",
    "df['Tax']              = df_2['Tax']\n",
    "df['Rating']           = df_1['rating']\n",
    "df['Reviews']          = df_2['reviews']\n",
    "df['quantity']         = df_2['quantity']\n",
    "df['Stock']            = df_1['Stock']\n",
    "df['Book Link']        = df_1['Book Link']\n",
    "df['Img Source']       = df_1['Img Source']"
   ]
  },
  {
   "cell_type": "code",
   "execution_count": null,
   "metadata": {},
   "outputs": [],
   "source": [
    "df.head()"
   ]
  },
  {
   "cell_type": "code",
   "execution_count": null,
   "metadata": {},
   "outputs": [],
   "source": [
    "df.to_csv('BooksToScrape.csv', index = False)"
   ]
  }
 ],
 "metadata": {
  "kernelspec": {
   "display_name": "Python 3",
   "language": "python",
   "name": "python3"
  },
  "language_info": {
   "codemirror_mode": {
    "name": "ipython",
    "version": 3
   },
   "file_extension": ".py",
   "mimetype": "text/x-python",
   "name": "python",
   "nbconvert_exporter": "python",
   "pygments_lexer": "ipython3",
   "version": "3.12.6"
  }
 },
 "nbformat": 4,
 "nbformat_minor": 2
}
